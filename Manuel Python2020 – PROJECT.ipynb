{
 "cells": [
  {
   "cell_type": "markdown",
   "metadata": {},
   "source": [
    "# Scraping the web to get texts in Souletin Basque\n",
    "\n",
    "This humble project aims to collect present-day texts written in Souletin Basque. \n",
    "\n",
    "Souletin is a marginal variety with a rich literary tradition in the past. Today it can be considered as an endangered variety. Xiberoko Botza is a free radio station with a web of news written in Souletin Basque.\n"
   ]
  },
  {
   "cell_type": "markdown",
   "metadata": {},
   "source": [
    "Let us import the REQUESTS module, necessary to send requests:"
   ]
  },
  {
   "cell_type": "code",
   "execution_count": 1,
   "metadata": {},
   "outputs": [
    {
     "data": {
      "text/plain": [
       "200"
      ]
     },
     "execution_count": 1,
     "metadata": {},
     "output_type": "execute_result"
    }
   ],
   "source": [
    "import requests\n",
    "xb = 'https://xiberokobotza.org'\n",
    "session = requests.session()\n",
    "x = requests.get(xb)\n",
    "x.status_code"
   ]
  },
  {
   "cell_type": "markdown",
   "metadata": {},
   "source": [
    "First of all, I need to be sure about the encoding of the website. \n",
    "\n",
    "NB: Modern Souletin spelling uses the grapheme <ü>, which provokes lots of problems in the case of not chosing the correct encoding. UTF-8 allows us for working with Souletin spelling."
   ]
  },
  {
   "cell_type": "code",
   "execution_count": 2,
   "metadata": {},
   "outputs": [
    {
     "data": {
      "text/plain": [
       "'utf-8'"
      ]
     },
     "execution_count": 2,
     "metadata": {},
     "output_type": "execute_result"
    }
   ],
   "source": [
    "x.encoding"
   ]
  },
  {
   "cell_type": "markdown",
   "metadata": {},
   "source": [
    "Below I want to know the HTML content of the page:"
   ]
  },
  {
   "cell_type": "code",
   "execution_count": 3,
   "metadata": {
    "scrolled": false
   },
   "outputs": [],
   "source": [
    "x.content; # I use the semicolon because the output is endless."
   ]
  },
  {
   "cell_type": "markdown",
   "metadata": {},
   "source": [
    "Now I want to obtain the headers of the site:"
   ]
  },
  {
   "cell_type": "code",
   "execution_count": 4,
   "metadata": {},
   "outputs": [
    {
     "data": {
      "text/plain": [
       "{'Server': 'nginx', 'Date': 'Tue, 24 Nov 2020 09:16:45 GMT', 'Content-Type': 'text/html; charset=utf-8', 'Transfer-Encoding': 'chunked', 'Connection': 'keep-alive', 'X-Powered-By': 'PHP/7.0.33, PleskLin', 'Expires': 'Wed, 17 Aug 2005 00:00:00 GMT', 'Cache-Control': 'no-store, no-cache, must-revalidate, post-check=0, pre-check=0', 'Pragma': 'no-cache', 'Set-Cookie': '6a56f77a457edbe1f83039fafdb0f05b=8cunlvlv2tv357hps4lqph6en1; path=/; secure; HttpOnly', 'X-Content-Type-Options': 'nosniff', 'Last-Modified': 'Tue, 24 Nov 2020 09:16:45 GMT'}"
      ]
     },
     "execution_count": 4,
     "metadata": {},
     "output_type": "execute_result"
    }
   ],
   "source": [
    "x.headers"
   ]
  },
  {
   "cell_type": "markdown",
   "metadata": {},
   "source": [
    "Before downloading anything from the website, it is convenient to make an effort in order not to get blocked.\n",
    "\n",
    "I introduce a pause between requests:\n"
   ]
  },
  {
   "cell_type": "code",
   "execution_count": 5,
   "metadata": {},
   "outputs": [
    {
     "name": "stdout",
     "output_type": "stream",
     "text": [
      "Tue, 24 Nov 2020 09:16:46 GMT\n",
      "Tue, 24 Nov 2020 09:16:50 GMT\n",
      "Tue, 24 Nov 2020 09:16:54 GMT\n",
      "Tue, 24 Nov 2020 09:16:58 GMT\n",
      "Tue, 24 Nov 2020 09:17:02 GMT\n"
     ]
    }
   ],
   "source": [
    "import time\n",
    "\n",
    "for _ in range(5):\n",
    "    response = session.get(xb)\n",
    "    print(response.headers['Date'])\n",
    "    time.sleep(3)"
   ]
  },
  {
   "cell_type": "markdown",
   "metadata": {},
   "source": [
    "And present myself as a well-respected browser:"
   ]
  },
  {
   "cell_type": "code",
   "execution_count": 6,
   "metadata": {},
   "outputs": [
    {
     "name": "stdout",
     "output_type": "stream",
     "text": [
      "{'User-Agent': 'Mozilla/5.0 (Windows; U; Windows NT 6.0; ja-JP) AppleWebKit/533.20.25 (KHTML, like Gecko) Version/5.0.4 Safari/533.20.27'}\n"
     ]
    }
   ],
   "source": [
    "from fake_useragent import UserAgent\n",
    "ua = UserAgent(verify_ssl=False)\n",
    "\n",
    "headers = {'User-Agent': ua.random}\n",
    "print(headers)\n",
    "response = session.get(xb, headers=headers)"
   ]
  },
  {
   "cell_type": "markdown",
   "metadata": {},
   "source": [
    "Again, a pause between requests (random time):\n"
   ]
  },
  {
   "cell_type": "code",
   "execution_count": 7,
   "metadata": {},
   "outputs": [
    {
     "name": "stdout",
     "output_type": "stream",
     "text": [
      "Tue, 24 Nov 2020 09:17:07 GMT\n",
      "Tue, 24 Nov 2020 09:17:12 GMT\n",
      "Tue, 24 Nov 2020 09:17:16 GMT\n",
      "Tue, 24 Nov 2020 09:17:19 GMT\n",
      "Tue, 24 Nov 2020 09:17:23 GMT\n"
     ]
    }
   ],
   "source": [
    "import random\n",
    "for _ in range(5):\n",
    "    \n",
    "    response = session.get(xb)\n",
    "    print(response.headers['Date'])\n",
    "    time.sleep(random.uniform(1.1, 5.2))"
   ]
  },
  {
   "cell_type": "markdown",
   "metadata": {},
   "source": [
    "Здесь я хотел работать с помощью прокси, но не получилось:"
   ]
  },
  {
   "cell_type": "code",
   "execution_count": 8,
   "metadata": {
    "scrolled": true
   },
   "outputs": [],
   "source": [
    "# known_proxy_ip = 'http://180.246.205.208:57648'\n",
    "# proxy = {'http': known_proxy_ip, 'https': known_proxy_ip}\n",
    "# response = requests.get(xb, proxies=proxy)\n",
    "# print(response.headers)"
   ]
  },
  {
   "cell_type": "markdown",
   "metadata": {},
   "source": [
    "# Parsing the web\n",
    "\n",
    "This code imports the library Beautifulsoup and parses the web, and presents the content in its hierarchical architecture:"
   ]
  },
  {
   "cell_type": "code",
   "execution_count": 18,
   "metadata": {},
   "outputs": [],
   "source": [
    "from bs4 import BeautifulSoup\n",
    "soup = BeautifulSoup(x.content, 'html.parser')\n",
    "# print(soup.prettify())"
   ]
  },
  {
   "cell_type": "code",
   "execution_count": 10,
   "metadata": {},
   "outputs": [],
   "source": [
    "list(soup.children);"
   ]
  },
  {
   "cell_type": "code",
   "execution_count": 11,
   "metadata": {},
   "outputs": [
    {
     "data": {
      "text/plain": [
       "<div aria-label=\"next arrow\" class=\"n2-ss-widget n2-ss-widget-display-desktop n2-ss-widget-display-tablet n2-ss-widget-display-mobile n2-style-0ef3c74dd87a58a89eb483c67447d002-heading nextend-arrow n2-ow nextend-arrow-next nextend-arrow-animated-fade n2-ib\" data-ssright=\"0+15\" data-sstop=\"height/2-nextheight/2\" id=\"n2-ss-2-arrow-next\" role=\"button\" style=\"position: absolute;\" tabindex=\"0\"><img alt=\"next arrow\" class=\"n2-ow\" data-hack=\"data-lazy-src\" data-no-lazy=\"1\" src=\"data:image/svg+xml;base64,PHN2ZyB3aWR0aD0iMzIiIGhlaWdodD0iMzIiIHZpZXdCb3g9IjAgMCAzMiAzMiIgeG1sbnM9Imh0dHA6Ly93d3cudzMub3JnLzIwMDAvc3ZnIj48cGF0aCBkPSJNMTMuMjg2IDI1LjYxYy0uMjQuMjUzLS41Mi4zNzctLjg0LjM3Ny0uMzE4IDAtLjYtLjEyNC0uODQtLjM3NmwtMS4yNDUtMS4yOTdjLS4yNC0uMjUyLS4zNi0uNTQ0LS4zNi0uODc4IDAtLjMzNC4xMi0uNjI2LjM2LS44NzhsNi4zMjgtNi42TDEwLjM2IDkuNDNjLS4yNC0uMjUtLjM2LS41NC0uMzYtLjg2NCAwLS4zMjMuMTItLjYxMi4zNi0uODY0bDEuMjQ1LTEuMzI1Yy4yNC0uMjUyLjUyMy0uMzc3Ljg0OC0uMzc3LjMyMyAwIC42MDIuMTI1LjgzMy4zNzdsOC4zNjYgOC43NDZjLjI0LjI1LjM2My41NDYuMzYzLjg4MiAwIC4zNC0uMTIyLjYzNC0uMzYzLjg4NmwtOC4zNjYgOC43MnoiIGZpbGw9IiNmZmZmZmYiIG9wYWNpdHk9IjAuOCIgZmlsbC1ydWxlPSJldmVub2RkIi8+PC9zdmc+\"/></div>"
      ]
     },
     "execution_count": 11,
     "metadata": {},
     "output_type": "execute_result"
    }
   ],
   "source": [
    "# The number in brakets refers to a nesting level. \n",
    "# By knowing at which level is the text we are interested in, we can easily get it.\n",
    "list(soup.children)[22]"
   ]
  },
  {
   "cell_type": "code",
   "execution_count": 12,
   "metadata": {},
   "outputs": [
    {
     "data": {
      "text/plain": [
       "'AZKEN BERRIAKPAC berri baten egiteko bidean dira 2023ko!2020-11-16 - Laborantxa / Üngüramena\\nPAC berria, Europako laborantxa lagüntzak, sekülan beno berdeago\\xa0: komünikazione faltsüa ote da\\xa0?\\nHori dü salhatzen ELB sindikatüak, ber zentzüan Eüskal Herriko FDSEA sindikatüa inkiet da bortüko laborantxa süstengatzen düen lagüntzen geroarentako.\\nPAC lagüntzen parte handi bat lür eremüen arabera eta kabale heinaren arabera kalkültaürik da, sos laguntzen %\\xa080 a laborarien % 20ak hunkitzen dü.\\n2023 ko PAC-a mementoan eztabidan da, erreformaren\\xa0herroka handiak urtarilan elkiko dira.\\nBenoit Tauzin laborariak erraiten deikü bere etxaltean zertangainen PAC-a hunkitzen düan eta zer dion hortaz:\\n\\xa0\\n\\n<p class=\"n2-font-84674749537f8c78f9216705fcfdb018-paragraph  n2-style-2e69df52557e65e0b420ac781d38f41a-heading  n2-ow\">.mejs-container {max-width: 300px;}</p>\\n<p class=\"n2-font-84674749537f8c78f9216705fcfdb018-paragraph  n2-style-2e69df52557e65e0b420ac781d38f41a-heading  n2-ow\">.mejs-time.mejs-currenttime-container {display: none !important;}</p>\\n<p class=\"n2-font-84674749537f8c78f9216705fcfdb018-paragraph  n2-style-2e69df52557e65e0b420ac781d38f41a-heading  n2-ow\">.mejs-time.mejs-duration-container {display: block !important;}</p>\\n<p class=\"n2-font-84674749537f8c78f9216705fcfdb018-paragraph  n2-style-2e69df52557e65e0b420ac781d38f41a-heading  n2-ow\">.mejs-inner .mejs-controls .lightplayer-logo {display: none !important;}</p>\\n<p class=\"n2-font-84674749537f8c78f9216705fcfdb018-paragraph  n2-style-2e69df52557e65e0b420ac781d38f41a-heading  n2-ow\">.lightplayer-logo-container {background-image: url(\" /plugins/content/customizedplayer/images/logotype-small.png\") !important;}</p>\\n<p class=\"n2-font-84674749537f8c78f9216705fcfdb018-paragraph  n2-style-2e69df52557e65e0b420ac781d38f41a-heading  n2-ow\">.mejs-controls {background-color: #087eeb;}</p>\\n<p class=\"n2-font-84674749537f8c78f9216705fcfdb018-paragraph  n2-style-2e69df52557e65e0b420ac781d38f41a-heading  n2-ow\">.mejs-time-current, .mejs-time-handle, .mejs-horizontal-volume-current, .mejs-horizontal-volume-handle {background-color: #f97f06;}</p>\\n<p class=\"n2-font-84674749537f8c78f9216705fcfdb018-paragraph  n2-style-2e69df52557e65e0b420ac781d38f41a-heading  n2-ow\">.mejs-horizontal-volume-total, .mejs-time-loaded {background-color: #ffffff;}</p>\\n<p class=\"n2-font-84674749537f8c78f9216705fcfdb018-paragraph  n2-style-2e69df52557e65e0b420ac781d38f41a-heading  n2-ow\">.mejs-controls .mejs-time-rail .mejs-time-buffering {background-color: #2edd32;}</p>\\n<p class=\"n2-font-84674749537f8c78f9216705fcfdb018-paragraph  n2-style-2e69df52557e65e0b420ac781d38f41a-heading  n2-ow\">.mejs-container .mejs-controls .mejs-time span {color: #ffffff;}</p>\\n<p class=\"n2-font-84674749537f8c78f9216705fcfdb018-paragraph  n2-style-2e69df52557e65e0b420ac781d38f41a-heading  n2-ow\">.lightplayer-download-link-container {display: flex;}</p>\\n<p class=\"n2-font-84674749537f8c78f9216705fcfdb018-paragraph  n2-style-2e69df52557e65e0b420ac781d38f41a-heading  n2-ow\">.lightplayer-download-link-container {text-align: center;}</p>\\n<p class=\"n2-font-84674749537f8c78f9216705fcfdb018-paragraph  n2-style-2e69df52557e65e0b420ac781d38f41a-heading  n2-ow\">.lightplayer-download-link::before {content: \" zabal leiho berrian >\";}</p>\\n<p class=\"n2-font-84674749537f8c78f9216705fcfdb018-paragraph  n2-style-2e69df52557e65e0b420ac781d38f41a-heading  n2-ow\">.lightplayer-download-link-container {max-width: 300px;}</p>\\n<p class=\"n2-font-84674749537f8c78f9216705fcfdb018-paragraph  n2-style-2e69df52557e65e0b420ac781d38f41a-heading  n2-ow\">@media only screen and (max-width : 480px) {</p>\\n<p class=\"n2-font-84674749537f8c78f9216705fcfdb018-paragraph  n2-style-2e69df52557e65e0b420ac781d38f41a-heading  n2-ow\">.mejs-inner .mejs-controls .lightplayer-logo {display: none !important;}</p>\\n<p class=\"n2-font-84674749537f8c78f9216705fcfdb018-paragraph  n2-style-2e69df52557e65e0b420ac781d38f41a-heading  n2-ow\">.mejs-time.mejs-currenttime-container {display: none !important;}</p>\\n<p class=\"n2-font-84674749537f8c78f9216705fcfdb018-paragraph  n2-style-2e69df52557e65e0b420ac781d38f41a-heading  n2-ow\">.mejs-time.mejs-duration-container {display: block !important;}</p>\\n<p class=\"n2-font-84674749537f8c78f9216705fcfdb018-paragraph  n2-style-2e69df52557e65e0b420ac781d38f41a-heading  n2-ow\">}</p>\\n\\n\\n\\n<p class=\"n2-font-84674749537f8c78f9216705fcfdb018-paragraph  n2-style-2e69df52557e65e0b420ac781d38f41a-heading  n2-ow\">.mejs-container {max-width: 300px;}</p>\\n<p class=\"n2-font-84674749537f8c78f9216705fcfdb018-paragraph  n2-style-2e69df52557e65e0b420ac781d38f41a-heading  n2-ow\">.mejs-time.mejs-currenttime-container {display: none !important;}</p>\\n<p class=\"n2-font-84674749537f8c78f9216705fcfdb018-paragraph  n2-style-2e69df52557e65e0b420ac781d38f41a-heading  n2-ow\">.mejs-time.mejs-duration-container {display: block !important;}</p>\\n<p class=\"n2-font-84674749537f8c78f9216705fcfdb018-paragraph  n2-style-2e69df52557e65e0b420ac781d38f41a-heading  n2-ow\">.mejs-inner .mejs-controls .lightplayer-logo {display: none !important;}</p>\\n<p class=\"n2-font-84674749537f8c78f9216705fcfdb018-paragraph  n2-style-2e69df52557e65e0b420ac781d38f41a-heading  n2-ow\">.lightplayer-logo-container {background-image: url(\" /plugins/content/customizedplayer/images/logotype-small.png\") !important;}</p>\\n<p class=\"n2-font-84674749537f8c78f9216705fcfdb018-paragraph  n2-style-2e69df52557e65e0b420ac781d38f41a-heading  n2-ow\">.mejs-controls {background-color: #087eeb;}</p>\\n<p class=\"n2-font-84674749537f8c78f9216705fcfdb018-paragraph  n2-style-2e69df52557e65e0b420ac781d38f41a-heading  n2-ow\">.mejs-time-current, .mejs-time-handle, .mejs-horizontal-volume-current, .mejs-horizontal-volume-handle {background-color: #f97f06;}</p>\\n<p class=\"n2-font-84674749537f8c78f9216705fcfdb018-paragraph  n2-style-2e69df52557e65e0b420ac781d38f41a-heading  n2-ow\">.mejs-horizontal-volume-total, .mejs-time-loaded {background-color: #ffffff;}</p>\\n<p class=\"n2-font-84674749537f8c78f9216705fcfdb018-paragraph  n2-style-2e69df52557e65e0b420ac781d38f41a-heading  n2-ow\">.mejs-controls .mejs-time-rail .mejs-time-buffering {background-color: #2edd32;}</p>\\n<p class=\"n2-font-84674749537f8c78f9216705fcfdb018-paragraph  n2-style-2e69df52557e65e0b420ac781d38f41a-heading  n2-ow\">.mejs-container .mejs-controls .mejs-time span {color: #ffffff;}</p>\\n<p class=\"n2-font-84674749537f8c78f9216705fcfdb018-paragraph  n2-style-2e69df52557e65e0b420ac781d38f41a-heading  n2-ow\">.lightplayer-download-link-container {display: flex;}</p>\\n<p class=\"n2-font-84674749537f8c78f9216705fcfdb018-paragraph  n2-style-2e69df52557e65e0b420ac781d38f41a-heading  n2-ow\">.lightplayer-download-link-container {text-align: center;}</p>\\n<p class=\"n2-font-84674749537f8c78f9216705fcfdb018-paragraph  n2-style-2e69df52557e65e0b420ac781d38f41a-heading  n2-ow\">.lightplayer-download-link::before {content: \" zabal leiho berrian >\";}</p>\\n<p class=\"n2-font-84674749537f8c78f9216705fcfdb018-paragraph  n2-style-2e69df52557e65e0b420ac781d38f41a-heading  n2-ow\">.lightplayer-download-link-container {max-width: 300px;}</p>\\n<p class=\"n2-font-84674749537f8c78f9216705fcfdb018-paragraph  n2-style-2e69df52557e65e0b420ac781d38f41a-heading  n2-ow\">@media only screen and (max-width : 480px) {</p>\\n<p class=\"n2-font-84674749537f8c78f9216705fcfdb018-paragraph  n2-style-2e69df52557e65e0b420ac781d38f41a-heading  n2-ow\">.mejs-inner .mejs-controls .lightplayer-logo {display: none !important;}</p>\\n<p class=\"n2-font-84674749537f8c78f9216705fcfdb018-paragraph  n2-style-2e69df52557e65e0b420ac781d38f41a-heading  n2-ow\">.mejs-time.mejs-currenttime-container {display: none !important;}</p>\\n<p class=\"n2-font-84674749537f8c78f9216705fcfdb018-paragraph  n2-style-2e69df52557e65e0b420ac781d38f41a-heading  n2-ow\">.mejs-time.mejs-duration-container {display: block !important;}</p>\\n<p class=\"n2-font-84674749537f8c78f9216705fcfdb018-paragraph  n2-style-2e69df52557e65e0b420ac781d38f41a-heading  n2-ow\">}</p>\\n\\n\\n\\nFDSEA sindikatüan den Sébastien Uthurriagueren gana ere joan gira:\\n\\xa0\\n\\n<p class=\"n2-font-84674749537f8c78f9216705fcfdb018-paragraph  n2-style-2e69df52557e65e0b420ac781d38f41a-heading  n2-ow\">.mejs-container {max-width: 300px;}</p>\\n<p class=\"n2-font-84674749537f8c78f9216705fcfdb018-paragraph  n2-style-2e69df52557e65e0b420ac781d38f41a-heading  n2-ow\">.mejs-time.mejs-currenttime-container {display: none !important;}</p>\\n<p class=\"n2-font-84674749537f8c78f9216705fcfdb018-paragraph  n2-style-2e69df52557e65e0b420ac781d38f41a-heading  n2-ow\">.mejs-time.mejs-duration-container {display: block !important;}</p>\\n<p class=\"n2-font-84674749537f8c78f9216705fcfdb018-paragraph  n2-style-2e69df52557e65e0b420ac781d38f41a-heading  n2-ow\">.mejs-inner .mejs-controls .lightplayer-logo {display: none !important;}</p>\\n<p class=\"n2-font-84674749537f8c78f9216705fcfdb018-paragraph  n2-style-2e69df52557e65e0b420ac781d38f41a-heading  n2-ow\">.lightplayer-logo-container {background-image: url(\" /plugins/content/customizedplayer/images/logotype-small.png\") !important;}</p>\\n<p class=\"n2-font-84674749537f8c78f9216705fcfdb018-paragraph  n2-style-2e69df52557e65e0b420ac781d38f41a-heading  n2-ow\">.mejs-controls {background-color: #087eeb;}</p>\\n<p class=\"n2-font-84674749537f8c78f9216705fcfdb018-paragraph  n2-style-2e69df52557e65e0b420ac781d38f41a-heading  n2-ow\">.mejs-time-current, .mejs-time-handle, .mejs-horizontal-volume-current, .mejs-horizontal-volume-handle {background-color: #f97f06;}</p>\\n<p class=\"n2-font-84674749537f8c78f9216705fcfdb018-paragraph  n2-style-2e69df52557e65e0b420ac781d38f41a-heading  n2-ow\">.mejs-horizontal-volume-total, .mejs-time-loaded {background-color: #ffffff;}</p>\\n<p class=\"n2-font-84674749537f8c78f9216705fcfdb018-paragraph  n2-style-2e69df52557e65e0b420ac781d38f41a-heading  n2-ow\">.mejs-controls .mejs-time-rail .mejs-time-buffering {background-color: #2edd32;}</p>\\n<p class=\"n2-font-84674749537f8c78f9216705fcfdb018-paragraph  n2-style-2e69df52557e65e0b420ac781d38f41a-heading  n2-ow\">.mejs-container .mejs-controls .mejs-time span {color: #ffffff;}</p>\\n<p class=\"n2-font-84674749537f8c78f9216705fcfdb018-paragraph  n2-style-2e69df52557e65e0b420ac781d38f41a-heading  n2-ow\">.lightplayer-download-link-container {display: flex;}</p>\\n<p class=\"n2-font-84674749537f8c78f9216705fcfdb018-paragraph  n2-style-2e69df52557e65e0b420ac781d38f41a-heading  n2-ow\">.lightplayer-download-link-container {text-align: center;}</p>\\n<p class=\"n2-font-84674749537f8c78f9216705fcfdb018-paragraph  n2-style-2e69df52557e65e0b420ac781d38f41a-heading  n2-ow\">.lightplayer-download-link::before {content: \" zabal leiho berrian >\";}</p>\\n<p class=\"n2-font-84674749537f8c78f9216705fcfdb018-paragraph  n2-style-2e69df52557e65e0b420ac781d38f41a-heading  n2-ow\">.lightplayer-download-link-container {max-width: 300px;}</p>\\n<p class=\"n2-font-84674749537f8c78f9216705fcfdb018-paragraph  n2-style-2e69df52557e65e0b420ac781d38f41a-heading  n2-ow\">@media only screen and (max-width : 480px) {</p>\\n<p class=\"n2-font-84674749537f8c78f9216705fcfdb018-paragraph  n2-style-2e69df52557e65e0b420ac781d38f41a-heading  n2-ow\">.mejs-inner .mejs-controls .lightplayer-logo {display: none !important;}</p>\\n<p class=\"n2-font-84674749537f8c78f9216705fcfdb018-paragraph  n2-style-2e69df52557e65e0b420ac781d38f41a-heading  n2-ow\">.mejs-time.mejs-currenttime-container {display: none !important;}</p>\\n<p class=\"n2-font-84674749537f8c78f9216705fcfdb018-paragraph  n2-style-2e69df52557e65e0b420ac781d38f41a-heading  n2-ow\">.mejs-time.mejs-duration-container {display: block !important;}</p>\\n<p class=\"n2-font-84674749537f8c78f9216705fcfdb018-paragraph  n2-style-2e69df52557e65e0b420ac781d38f41a-heading  n2-ow\">}</p>\\n\\n\\n\\n<p class=\"n2-font-84674749537f8c78f9216705fcfdb018-paragraph  n2-style-2e69df52557e65e0b420ac781d38f41a-heading  n2-ow\">.mejs-container {max-width: 300px;}</p>\\n<p class=\"n2-font-84674749537f8c78f9216705fcfdb018-paragraph  n2-style-2e69df52557e65e0b420ac781d38f41a-heading  n2-ow\">.mejs-time.mejs-currenttime-container {display: none !important;}</p>\\n<p class=\"n2-font-84674749537f8c78f9216705fcfdb018-paragraph  n2-style-2e69df52557e65e0b420ac781d38f41a-heading  n2-ow\">.mejs-time.mejs-duration-container {display: block !important;}</p>\\n<p class=\"n2-font-84674749537f8c78f9216705fcfdb018-paragraph  n2-style-2e69df52557e65e0b420ac781d38f41a-heading  n2-ow\">.mejs-inner .mejs-controls .lightplayer-logo {display: none !important;}</p>\\n<p class=\"n2-font-84674749537f8c78f9216705fcfdb018-paragraph  n2-style-2e69df52557e65e0b420ac781d38f41a-heading  n2-ow\">.lightplayer-logo-container {background-image: url(\" /plugins/content/customizedplayer/images/logotype-small.png\") !important;}</p>\\n<p class=\"n2-font-84674749537f8c78f9216705fcfdb018-paragraph  n2-style-2e69df52557e65e0b420ac781d38f41a-heading  n2-ow\">.mejs-controls {background-color: #087eeb;}</p>\\n<p class=\"n2-font-84674749537f8c78f9216705fcfdb018-paragraph  n2-style-2e69df52557e65e0b420ac781d38f41a-heading  n2-ow\">.mejs-time-current, .mejs-time-handle, .mejs-horizontal-volume-current, .mejs-horizontal-volume-handle {background-color: #f97f06;}</p>\\n<p class=\"n2-font-84674749537f8c78f9216705fcfdb018-paragraph  n2-style-2e69df52557e65e0b420ac781d38f41a-heading  n2-ow\">.mejs-horizontal-volume-total, .mejs-time-loaded {background-color: #ffffff;}</p>\\n<p class=\"n2-font-84674749537f8c78f9216705fcfdb018-paragraph  n2-style-2e69df52557e65e0b420ac781d38f41a-heading  n2-ow\">.mejs-controls .mejs-time-rail .mejs-time-buffering {background-color: #2edd32;}</p>\\n<p class=\"n2-font-84674749537f8c78f9216705fcfdb018-paragraph  n2-style-2e69df52557e65e0b420ac781d38f41a-heading  n2-ow\">.mejs-container .mejs-controls .mejs-time span {color: #ffffff;}</p>\\n<p class=\"n2-font-84674749537f8c78f9216705fcfdb018-paragraph  n2-style-2e69df52557e65e0b420ac781d38f41a-heading  n2-ow\">.lightplayer-download-link-container {display: flex;}</p>\\n<p class=\"n2-font-84674749537f8c78f9216705fcfdb018-paragraph  n2-style-2e69df52557e65e0b420ac781d38f41a-heading  n2-ow\">.lightplayer-download-link-container {text-align: center;}</p>\\n<p class=\"n2-font-84674749537f8c78f9216705fcfdb018-paragraph  n2-style-2e69df52557e65e0b420ac781d38f41a-heading  n2-ow\">.lightplayer-download-link::before {content: \" zabal leiho berrian >\";}</p>\\n<p class=\"n2-font-84674749537f8c78f9216705fcfdb018-paragraph  n2-style-2e69df52557e65e0b420ac781d38f41a-heading  n2-ow\">.lightplayer-download-link-container {max-width: 300px;}</p>\\n<p class=\"n2-font-84674749537f8c78f9216705fcfdb018-paragraph  n2-style-2e69df52557e65e0b420ac781d38f41a-heading  n2-ow\">@media only screen and (max-width : 480px) {</p>\\n<p class=\"n2-font-84674749537f8c78f9216705fcfdb018-paragraph  n2-style-2e69df52557e65e0b420ac781d38f41a-heading  n2-ow\">.mejs-inner .mejs-controls .lightplayer-logo {display: none !important;}</p>\\n<p class=\"n2-font-84674749537f8c78f9216705fcfdb018-paragraph  n2-style-2e69df52557e65e0b420ac781d38f41a-heading  n2-ow\">.mejs-time.mejs-currenttime-container {display: none !important;}</p>\\n<p class=\"n2-font-84674749537f8c78f9216705fcfdb018-paragraph  n2-style-2e69df52557e65e0b420ac781d38f41a-heading  n2-ow\">.mejs-time.mejs-duration-container {display: block !important;}</p>\\n<p class=\"n2-font-84674749537f8c78f9216705fcfdb018-paragraph  n2-style-2e69df52557e65e0b420ac781d38f41a-heading  n2-ow\">}</p>\\n\\n\\n\\nGei horrek interresatzen bazütüe, igan asteko AITZUR ETA JORRA emankizünean PAC-a zen aipagei:\\n\\xa0\\n\\n<p class=\"n2-font-84674749537f8c78f9216705fcfdb018-paragraph  n2-style-2e69df52557e65e0b420ac781d38f41a-heading  n2-ow\">.mejs-container {max-width: 300px;}</p>\\n<p class=\"n2-font-84674749537f8c78f9216705fcfdb018-paragraph  n2-style-2e69df52557e65e0b420ac781d38f41a-heading  n2-ow\">.mejs-time.mejs-currenttime-container {display: none !important;}</p>\\n<p class=\"n2-font-84674749537f8c78f9216705fcfdb018-paragraph  n2-style-2e69df52557e65e0b420ac781d38f41a-heading  n2-ow\">.mejs-time.mejs-duration-container {display: block !important;}</p>\\n<p class=\"n2-font-84674749537f8c78f9216705fcfdb018-paragraph  n2-style-2e69df52557e65e0b420ac781d38f41a-heading  n2-ow\">.mejs-inner .mejs-controls .lightplayer-logo {display: none !important;}</p>\\n<p class=\"n2-font-84674749537f8c78f9216705fcfdb018-paragraph  n2-style-2e69df52557e65e0b420ac781d38f41a-heading  n2-ow\">.lightplayer-logo-container {background-image: url(\" /plugins/content/customizedplayer/images/logotype-small.png\") !important;}</p>\\n<p class=\"n2-font-84674749537f8c78f9216705fcfdb018-paragraph  n2-style-2e69df52557e65e0b420ac781d38f41a-heading  n2-ow\">.mejs-controls {background-color: #087eeb;}</p>\\n<p class=\"n2-font-84674749537f8c78f9216705fcfdb018-paragraph  n2-style-2e69df52557e65e0b420ac781d38f41a-heading  n2-ow\">.mejs-time-current, .mejs-time-handle, .mejs-horizontal-volume-current, .mejs-horizontal-volume-handle {background-color: #f97f06;}</p>\\n<p class=\"n2-font-84674749537f8c78f9216705fcfdb018-paragraph  n2-style-2e69df52557e65e0b420ac781d38f41a-heading  n2-ow\">.mejs-horizontal-volume-total, .mejs-time-loaded {background-color: #ffffff;}</p>\\n<p class=\"n2-font-84674749537f8c78f9216705fcfdb018-paragraph  n2-style-2e69df52557e65e0b420ac781d38f41a-heading  n2-ow\">.mejs-controls .mejs-time-rail .mejs-time-buffering {background-color: #2edd32;}</p>\\n<p class=\"n2-font-84674749537f8c78f9216705fcfdb018-paragraph  n2-style-2e69df52557e65e0b420ac781d38f41a-heading  n2-ow\">.mejs-container .mejs-controls .mejs-time span {color: #ffffff;}</p>\\n<p class=\"n2-font-84674749537f8c78f9216705fcfdb018-paragraph  n2-style-2e69df52557e65e0b420ac781d38f41a-heading  n2-ow\">.lightplayer-download-link-container {display: flex;}</p>\\n<p class=\"n2-font-84674749537f8c78f9216705fcfdb018-paragraph  n2-style-2e69df52557e65e0b420ac781d38f41a-heading  n2-ow\">.lightplayer-download-link-container {text-align: center;}</p>\\n<p class=\"n2-font-84674749537f8c78f9216705fcfdb018-paragraph  n2-style-2e69df52557e65e0b420ac781d38f41a-heading  n2-ow\">.lightplayer-download-link::before {content: \" zabal leiho berrian >\";}</p>\\n<p class=\"n2-font-84674749537f8c78f9216705fcfdb018-paragraph  n2-style-2e69df52557e65e0b420ac781d38f41a-heading  n2-ow\">.lightplayer-download-link-container {max-width: 300px;}</p>\\n<p class=\"n2-font-84674749537f8c78f9216705fcfdb018-paragraph  n2-style-2e69df52557e65e0b420ac781d38f41a-heading  n2-ow\">@media only screen and (max-width : 480px) {</p>\\n<p class=\"n2-font-84674749537f8c78f9216705fcfdb018-paragraph  n2-style-2e69df52557e65e0b420ac781d38f41a-heading  n2-ow\">.mejs-inner .mejs-controls .lightplayer-logo {display: none !important;}</p>\\n<p class=\"n2-font-84674749537f8c78f9216705fcfdb018-paragraph  n2-style-2e69df52557e65e0b420ac781d38f41a-heading  n2-ow\">.mejs-time.mejs-currenttime-container {display: none !important;}</p>\\n<p class=\"n2-font-84674749537f8c78f9216705fcfdb018-paragraph  n2-style-2e69df52557e65e0b420ac781d38f41a-heading  n2-ow\">.mejs-time.mejs-duration-container {display: block !important;}</p>\\n<p class=\"n2-font-84674749537f8c78f9216705fcfdb018-paragraph  n2-style-2e69df52557e65e0b420ac781d38f41a-heading  n2-ow\">}</p>\\n\\n\\n\\n<p class=\"n2-font-84674749537f8c78f9216705fcfdb018-paragraph  n2-style-2e69df52557e65e0b420ac781d38f41a-heading  n2-ow\">.mejs-container {max-width: 300px;}</p>\\n<p class=\"n2-font-84674749537f8c78f9216705fcfdb018-paragraph  n2-style-2e69df52557e65e0b420ac781d38f41a-heading  n2-ow\">.mejs-time.mejs-currenttime-container {display: none !important;}</p>\\n<p class=\"n2-font-84674749537f8c78f9216705fcfdb018-paragraph  n2-style-2e69df52557e65e0b420ac781d38f41a-heading  n2-ow\">.mejs-time.mejs-duration-container {display: block !important;}</p>\\n<p class=\"n2-font-84674749537f8c78f9216705fcfdb018-paragraph  n2-style-2e69df52557e65e0b420ac781d38f41a-heading  n2-ow\">.mejs-inner .mejs-controls .lightplayer-logo {display: none !important;}</p>\\n<p class=\"n2-font-84674749537f8c78f9216705fcfdb018-paragraph  n2-style-2e69df52557e65e0b420ac781d38f41a-heading  n2-ow\">.lightplayer-logo-container {background-image: url(\" /plugins/content/customizedplayer/images/logotype-small.png\") !important;}</p>\\n<p class=\"n2-font-84674749537f8c78f9216705fcfdb018-paragraph  n2-style-2e69df52557e65e0b420ac781d38f41a-heading  n2-ow\">.mejs-controls {background-color: #087eeb;}</p>\\n<p class=\"n2-font-84674749537f8c78f9216705fcfdb018-paragraph  n2-style-2e69df52557e65e0b420ac781d38f41a-heading  n2-ow\">.mejs-time-current, .mejs-time-handle, .mejs-horizontal-volume-current, .mejs-horizontal-volume-handle {background-color: #f97f06;}</p>\\n<p class=\"n2-font-84674749537f8c78f9216705fcfdb018-paragraph  n2-style-2e69df52557e65e0b420ac781d38f41a-heading  n2-ow\">.mejs-horizontal-volume-total, .mejs-time-loaded {background-color: #ffffff;}</p>\\n<p class=\"n2-font-84674749537f8c78f9216705fcfdb018-paragraph  n2-style-2e69df52557e65e0b420ac781d38f41a-heading  n2-ow\">.mejs-controls .mejs-time-rail .mejs-time-buffering {background-color: #2edd32;}</p>\\n<p class=\"n2-font-84674749537f8c78f9216705fcfdb018-paragraph  n2-style-2e69df52557e65e0b420ac781d38f41a-heading  n2-ow\">.mejs-container .mejs-controls .mejs-time span {color: #ffffff;}</p>\\n<p class=\"n2-font-84674749537f8c78f9216705fcfdb018-paragraph  n2-style-2e69df52557e65e0b420ac781d38f41a-heading  n2-ow\">.lightplayer-download-link-container {display: flex;}</p>\\n<p class=\"n2-font-84674749537f8c78f9216705fcfdb018-paragraph  n2-style-2e69df52557e65e0b420ac781d38f41a-heading  n2-ow\">.lightplayer-download-link-container {text-align: center;}</p>\\n<p class=\"n2-font-84674749537f8c78f9216705fcfdb018-paragraph  n2-style-2e69df52557e65e0b420ac781d38f41a-heading  n2-ow\">.lightplayer-download-link::before {content: \" zabal leiho berrian >\";}</p>\\n<p class=\"n2-font-84674749537f8c78f9216705fcfdb018-paragraph  n2-style-2e69df52557e65e0b420ac781d38f41a-heading  n2-ow\">.lightplayer-download-link-container {max-width: 300px;}</p>\\n<p class=\"n2-font-84674749537f8c78f9216705fcfdb018-paragraph  n2-style-2e69df52557e65e0b420ac781d38f41a-heading  n2-ow\">@media only screen and (max-width : 480px) {</p>\\n<p class=\"n2-font-84674749537f8c78f9216705fcfdb018-paragraph  n2-style-2e69df52557e65e0b420ac781d38f41a-heading  n2-ow\">.mejs-inner .mejs-controls .lightplayer-logo {display: none !important;}</p>\\n<p class=\"n2-font-84674749537f8c78f9216705fcfdb018-paragraph  n2-style-2e69df52557e65e0b420ac781d38f41a-heading  n2-ow\">.mejs-time.mejs-currenttime-container {display: none !important;}</p>\\n<p class=\"n2-font-84674749537f8c78f9216705fcfdb018-paragraph  n2-style-2e69df52557e65e0b420ac781d38f41a-heading  n2-ow\">.mejs-time.mejs-duration-container {display: block !important;}</p>\\n<p class=\"n2-font-84674749537f8c78f9216705fcfdb018-paragraph  n2-style-2e69df52557e65e0b420ac781d38f41a-heading  n2-ow\">}</p>\\n\\n\\n\\n'"
      ]
     },
     "execution_count": 12,
     "metadata": {},
     "output_type": "execute_result"
    }
   ],
   "source": [
    "# And here we get text. \n",
    "some_text = list(soup.children)[14]\n",
    "some_text.get_text()"
   ]
  },
  {
   "cell_type": "markdown",
   "metadata": {},
   "source": [
    "Finding all instances of a tag at once\n",
    "\n",
    "What we did above was useful for figuring out how to navigate a page, but it took a lot of commands to do something fairly simple. If we want to extract a single tag, we can instead use the find_all method, which will find all the instances of a tag on a page.\n"
   ]
  },
  {
   "cell_type": "code",
   "execution_count": 13,
   "metadata": {},
   "outputs": [],
   "source": [
    "# The tag 'p' refers to text. However, we will need to clean the result, which shows the tags.\n",
    "soup.find_all('p');"
   ]
  },
  {
   "cell_type": "code",
   "execution_count": 14,
   "metadata": {},
   "outputs": [
    {
     "data": {
      "text/plain": [
       "'Begiatürik den hitz ordü bakotxa azaroaren 27an izanen da xiberoko botzan'"
      ]
     },
     "execution_count": 14,
     "metadata": {},
     "output_type": "execute_result"
    }
   ],
   "source": [
    "soup.find_all('p')[15].get_text()"
   ]
  },
  {
   "cell_type": "code",
   "execution_count": 15,
   "metadata": {},
   "outputs": [],
   "source": [
    "# And here we add a condition:\n",
    "soup.find_all('p', class_='n2-font-84674749537f8c78f9216705fcfdb018-paragraph');"
   ]
  },
  {
   "cell_type": "markdown",
   "metadata": {},
   "source": [
    "The code above gives me the text I am interested in, but with the tags, which happen to have endless names. \n",
    "\n",
    "I decide to save the output of the code above into a .txt file, and then clean it with RE"
   ]
  },
  {
   "cell_type": "code",
   "execution_count": 16,
   "metadata": {},
   "outputs": [
    {
     "name": "stdout",
     "output_type": "stream",
     "text": [
      "Writing 'dirty_text' (ResultSet) to file 'xb_dirty.txt'.\n"
     ]
    }
   ],
   "source": [
    "dirty_text = soup.find_all('p', class_='n2-font-84674749537f8c78f9216705fcfdb018-paragraph')\n",
    "%store dirty_text >xb_dirty.txt"
   ]
  },
  {
   "cell_type": "markdown",
   "metadata": {},
   "source": [
    "Now I clean the text previously saved, by writing in the file:"
   ]
  },
  {
   "cell_type": "code",
   "execution_count": 17,
   "metadata": {},
   "outputs": [],
   "source": [
    "with open('xb_dirty.txt', 'r') as file:\n",
    "    filedata = file.read()\n",
    "filedata = filedata.replace('<p class=\"n2-font-84674749537f8c78f9216705fcfdb018-paragraph n2-style-2e69df52557e65e0b420ac781d38f41a-heading n2-ow\">', '')\n",
    "\n",
    "# Write the file out again\n",
    "with open('xb_dirty.txt', 'w') as file:\n",
    "    file.write(filedata)"
   ]
  },
  {
   "cell_type": "markdown",
   "metadata": {},
   "source": [
    "# Извините меня.\n",
    "\n",
    "I wanted to do some preprocessing with the Souletin text, but I just did not managed. In the web I found a good lemmatizer for Basque (https://github.com/ixa-ehu/ixa-pipe-pos), but it has not been developed to work in python. \n",
    "\n",
    "Then I found a lemmatizer (https://nlp.johnsnowlabs.com/2020/07/29/lemma_eu.html) that allows working with python, and here the problems arose when downloading. \n"
   ]
  }
 ],
 "metadata": {
  "kernelspec": {
   "display_name": "Python 3",
   "language": "python",
   "name": "python3"
  },
  "language_info": {
   "codemirror_mode": {
    "name": "ipython",
    "version": 3
   },
   "file_extension": ".py",
   "mimetype": "text/x-python",
   "name": "python",
   "nbconvert_exporter": "python",
   "pygments_lexer": "ipython3",
   "version": "3.7.6"
  }
 },
 "nbformat": 4,
 "nbformat_minor": 4
}
